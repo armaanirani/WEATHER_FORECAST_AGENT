{
 "cells": [
  {
   "cell_type": "code",
   "execution_count": 1,
   "id": "6dcb4118",
   "metadata": {},
   "outputs": [
    {
     "name": "stderr",
     "output_type": "stream",
     "text": [
      "c:\\CS\\WEATHER_FORECAST_AGENT_21_04\\venv\\Lib\\site-packages\\tqdm\\auto.py:21: TqdmWarning: IProgress not found. Please update jupyter and ipywidgets. See https://ipywidgets.readthedocs.io/en/stable/user_install.html\n",
      "  from .autonotebook import tqdm as notebook_tqdm\n",
      "None of PyTorch, TensorFlow >= 2.0, or Flax have been found. Models won't be available and only tokenizers, configuration and file/data utilities can be used.\n"
     ]
    }
   ],
   "source": [
    "import os\n",
    "import requests\n",
    "from dotenv import load_dotenv\n",
    "from llama_index.core.agent import ReActAgent\n",
    "from llama_index.llms.groq import Groq\n",
    "from llama_index.core.tools import FunctionTool"
   ]
  },
  {
   "cell_type": "code",
   "execution_count": 2,
   "id": "a9fb9fd8",
   "metadata": {},
   "outputs": [],
   "source": [
    "# Load environment variables\n",
    "load_dotenv()\n",
    "\n",
    "GROQ_API_KEY = os.getenv(\"GROQ_API_KEY\")\n",
    "OWM_API_KEY = os.getenv(\"OWM_API_KEY\")"
   ]
  },
  {
   "cell_type": "code",
   "execution_count": 3,
   "id": "122aaf7f",
   "metadata": {},
   "outputs": [],
   "source": [
    "llm = Groq(\n",
    "    model=\"llama-3.3-70b-versatile\",\n",
    "    temperature=0.0,\n",
    "    api_key=GROQ_API_KEY\n",
    ")"
   ]
  },
  {
   "cell_type": "code",
   "execution_count": 4,
   "id": "ab6ffc37",
   "metadata": {},
   "outputs": [],
   "source": [
    "BASE_URL = \"https://api.openweathermap.org/data/2.5/weather\""
   ]
  },
  {
   "cell_type": "code",
   "execution_count": 5,
   "id": "dcf3b94a",
   "metadata": {},
   "outputs": [],
   "source": [
    "city = \"Pune\"\n",
    "units = \"metric\"\n",
    "\n",
    "params = {\n",
    "    \"q\": city,\n",
    "    \"appid\": OWM_API_KEY,\n",
    "    \"units\": units\n",
    "}"
   ]
  },
  {
   "cell_type": "code",
   "execution_count": 6,
   "id": "92bc23ad",
   "metadata": {},
   "outputs": [],
   "source": [
    "response = requests.get(BASE_URL, params=params)"
   ]
  },
  {
   "cell_type": "code",
   "execution_count": 7,
   "id": "0cf3354a",
   "metadata": {},
   "outputs": [
    {
     "name": "stdout",
     "output_type": "stream",
     "text": [
      "{'coord': {'lon': 73.8553, 'lat': 18.5196}, 'weather': [{'id': 800, 'main': 'Clear', 'description': 'clear sky', 'icon': '01d'}], 'base': 'stations', 'main': {'temp': 38.41, 'feels_like': 36.17, 'temp_min': 38.41, 'temp_max': 38.41, 'pressure': 1008, 'humidity': 15, 'sea_level': 1008, 'grnd_level': 936}, 'visibility': 10000, 'wind': {'speed': 2.93, 'deg': 21, 'gust': 2.06}, 'clouds': {'all': 0}, 'dt': 1745225250, 'sys': {'country': 'IN', 'sunrise': 1745196204, 'sunset': 1745241769}, 'timezone': 19800, 'id': 1259229, 'name': 'Pune', 'cod': 200}\n"
     ]
    }
   ],
   "source": [
    "print(response.json())"
   ]
  },
  {
   "cell_type": "code",
   "execution_count": 8,
   "id": "67d3ad6e",
   "metadata": {},
   "outputs": [],
   "source": [
    "## Weather forecast function\n",
    "\n",
    "def get_weather_forecast(city: str, units: str = \"metric\") -> dict:\n",
    "    \"\"\"This function returns the current weather forecast for the given city.\"\"\"\n",
    "    params = {\n",
    "        \"q\": city,\n",
    "        \"appid\": OWM_API_KEY,\n",
    "        \"units\": units\n",
    "    }\n",
    "    \n",
    "    response = requests.get(BASE_URL, params=params)\n",
    "    result = response.json()\n",
    "    \n",
    "    return result\n"
   ]
  },
  {
   "cell_type": "code",
   "execution_count": 9,
   "id": "f97b46e6",
   "metadata": {},
   "outputs": [
    {
     "name": "stdout",
     "output_type": "stream",
     "text": [
      "{'coord': {'lon': 73.8553, 'lat': 18.5196}, 'weather': [{'id': 800, 'main': 'Clear', 'description': 'clear sky', 'icon': '01d'}], 'base': 'stations', 'main': {'temp': 38.41, 'feels_like': 36.17, 'temp_min': 38.41, 'temp_max': 38.41, 'pressure': 1008, 'humidity': 15, 'sea_level': 1008, 'grnd_level': 936}, 'visibility': 10000, 'wind': {'speed': 2.93, 'deg': 21, 'gust': 2.06}, 'clouds': {'all': 0}, 'dt': 1745225250, 'sys': {'country': 'IN', 'sunrise': 1745196204, 'sunset': 1745241769}, 'timezone': 19800, 'id': 1259229, 'name': 'Pune', 'cod': 200}\n"
     ]
    }
   ],
   "source": [
    "output = get_weather_forecast(\"Pune\")\n",
    "print(output)"
   ]
  },
  {
   "cell_type": "code",
   "execution_count": 10,
   "id": "f8ae7d7d",
   "metadata": {},
   "outputs": [],
   "source": [
    "## Converting the function to a function tool\n",
    "\n",
    "weather_forecast_tool = FunctionTool.from_defaults(\n",
    "    fn=get_weather_forecast,\n",
    "    name=\"get_weather_forecast\",\n",
    "    description=\"This function returns the current weather forecast for the given city.\"\n",
    ")"
   ]
  },
  {
   "cell_type": "code",
   "execution_count": 11,
   "id": "10ca5a58",
   "metadata": {},
   "outputs": [],
   "source": [
    "tools_list = [weather_forecast_tool] ## Can add additional functions to the list"
   ]
  },
  {
   "cell_type": "code",
   "execution_count": 12,
   "id": "ec82cc25",
   "metadata": {},
   "outputs": [],
   "source": [
    "agent = ReActAgent.from_tools(\n",
    "    tools_list,\n",
    "    llm=llm,\n",
    "    verbose=True\n",
    ")"
   ]
  },
  {
   "cell_type": "code",
   "execution_count": 13,
   "id": "870cdcdb",
   "metadata": {},
   "outputs": [
    {
     "name": "stdout",
     "output_type": "stream",
     "text": [
      "> Running step 2d1fc9c6-1601-4b1b-b828-f4ba60a08981. Step input: What is the temperature in Pune?\n",
      "\u001b[1;3;38;5;200mThought: The current language of the user is: English. I need to use a tool to help me answer the question.\n",
      "Action: get_weather_forecast\n",
      "Action Input: {'city': 'Pune', 'units': 'metric'}\n",
      "\u001b[0m\u001b[1;3;34mObservation: {'coord': {'lon': 73.8553, 'lat': 18.5196}, 'weather': [{'id': 800, 'main': 'Clear', 'description': 'clear sky', 'icon': '01d'}], 'base': 'stations', 'main': {'temp': 38.41, 'feels_like': 36.17, 'temp_min': 38.41, 'temp_max': 38.41, 'pressure': 1008, 'humidity': 15, 'sea_level': 1008, 'grnd_level': 936}, 'visibility': 10000, 'wind': {'speed': 2.93, 'deg': 21, 'gust': 2.06}, 'clouds': {'all': 0}, 'dt': 1745225250, 'sys': {'country': 'IN', 'sunrise': 1745196204, 'sunset': 1745241769}, 'timezone': 19800, 'id': 1259229, 'name': 'Pune', 'cod': 200}\n",
      "\u001b[0m> Running step f880e907-ee8f-4240-9c12-d2ef53fef1c1. Step input: None\n",
      "\u001b[1;3;38;5;200mThought: I can answer without using any more tools. I'll use the user's language to answer\n",
      "Answer: The temperature in Pune is 38.41 degrees Celsius.\n",
      "\u001b[0mThe temperature in Pune is 38.41 degrees Celsius.\n"
     ]
    }
   ],
   "source": [
    "response = agent.chat(\"What is the temperature in Pune?\")\n",
    "print(response)"
   ]
  },
  {
   "cell_type": "code",
   "execution_count": 14,
   "id": "3c77ca44",
   "metadata": {},
   "outputs": [
    {
     "name": "stdout",
     "output_type": "stream",
     "text": [
      "The temperature in Pune is 38.41 degrees Celsius.\n"
     ]
    }
   ],
   "source": [
    "print(response.response)"
   ]
  },
  {
   "cell_type": "code",
   "execution_count": null,
   "id": "f6f489f5",
   "metadata": {},
   "outputs": [],
   "source": []
  }
 ],
 "metadata": {
  "kernelspec": {
   "display_name": "venv",
   "language": "python",
   "name": "python3"
  },
  "language_info": {
   "codemirror_mode": {
    "name": "ipython",
    "version": 3
   },
   "file_extension": ".py",
   "mimetype": "text/x-python",
   "name": "python",
   "nbconvert_exporter": "python",
   "pygments_lexer": "ipython3",
   "version": "3.12.0"
  }
 },
 "nbformat": 4,
 "nbformat_minor": 5
}
